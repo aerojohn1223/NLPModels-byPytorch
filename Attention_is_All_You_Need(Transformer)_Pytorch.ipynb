{
  "nbformat": 4,
  "nbformat_minor": 0,
  "metadata": {
    "colab": {
      "provenance": []
    },
    "kernelspec": {
      "name": "python3",
      "display_name": "Python 3"
    },
    "language_info": {
      "name": "python"
    }
  },
  "cells": [
    {
      "cell_type": "code",
      "execution_count": 8,
      "metadata": {
        "id": "NaVmy0LEYc6n"
      },
      "outputs": [],
      "source": [
        "import torch\n",
        "import torch.nn as nn"
      ]
    },
    {
      "cell_type": "markdown",
      "source": [
        "#Multi-Head Attention Layer"
      ],
      "metadata": {
        "id": "76c3Lsiv6nmw"
      }
    },
    {
      "cell_type": "code",
      "source": [
        "class MultiHeadAttentionLayer(nn.Module):\n",
        "    def __init__(self,hidden_dim, n_heads, dropout_ratio):\n",
        "        '''\n",
        "        hidden_dim : 하나의 단어에 대한 임베딩 차원\n",
        "        n_heads : head의 개수. 즉, scaled dot product attention의 개수. 이후 concat함.\n",
        "        dropout_ratio : dropout 비율\n",
        "        '''\n",
        "\n",
        "        super().__init__()\n",
        "\n",
        "        assert hidden_dim % n_heads == 0 #hidden_dim을 n_heads로 나눴을 때 나머지가 0임을 가정.\n",
        "\n",
        "        self.hidden_dim = hidden_dim #embedding dimension.\n",
        "        self.n_heads = n_heads #head의 수. 즉, 서로 다른 attention의 수\n",
        "        self.head_dim = hidden_dim // n_heads #각 head에서의 embedding 차원\n",
        "\n",
        "        self.fc_q = nn.Linear(hidden_dim, hidden_dim)\n",
        "        self.fc_k = nn.Linear(hidden_dim, hidden_dim)\n",
        "        self.fc_v = nn.Linear(hidden_dim, hidden_dim)\n",
        "\n",
        "        self.fc_o = nn.Linear(hidden_dim, hidden_dim)\n",
        "\n",
        "        self.dropout_ratio = dropout_ratio\n",
        "\n",
        "        self.scale = torch.sqrt(torch.FloatTensor([self.head_dim])).to(device)\n",
        "\n",
        "    def forward(self, query, key, value, mask = None):\n",
        "\n",
        "        # query: [batch_size, query_len, hidden_dim]\n",
        "        # key: [batch_size, key_len, hidden_dim]\n",
        "        # value: [batch_size, value_len, hidden_dim]\n",
        "\n",
        "        batch_size = query.shape[0]\n",
        "\n",
        "        Q = self.fc_q(query)# Q: [batch_size, query_len, hidden_dim]\n",
        "        K = self.fc_k(key)# K: [batch_size, key_len, hidden_dim]\n",
        "        V = self.fc_v(value)# V: [batch_size, value_len, hidden_dim]\n",
        "\n",
        "        #hidden_dim을 (n_heads x head_dim)으로 나누기\n",
        "        #n_head개의 서로 다른 attention을 학습할 수 있도록 한다.\n",
        "        Q = Q.view(batch_size, -1, self.n_heads, self.head_dim).permutate(0, 2, 1, 3)# Q: [batch_size, n_heads, query_len, head_dim]\n",
        "        K = K.view(batch_size, -1, self.n_heads, self.head_dim).permutate(0, 2, 1, 3)# K: [batch_size, n_heads, key_len, head_dim]\n",
        "        V = V.view(batch_size, -1, self.n_heads, self.head_dim).permutate(0, 2, 1, 3)# V: [batch_size, n_heads, value_len, head_dim]\n",
        "\n",
        "        #attention energy 계산\n",
        "        energy = torch.matmul(Q, K.permute(0, 1, 3, 2)) / self.scale # energy: [batch_size, n_heads, query_len, key_len]\n",
        "\n",
        "        #mask를 사용하는 경우(decoder)\n",
        "        if mask is not None:\n",
        "            energy = energy.masked_fill(mask == 0, -1e10)\n",
        "\n",
        "        #attention score(각 단어에 대한 확률값)\n",
        "        attention = torch.softmax(energy, dim = -1) #각 head별 attention이니까 ???\n",
        "        # attention: [batch_size, n_heads, query_len, key_len]\n",
        "\n",
        "        #scaled dot product attention\n",
        "        x = torch.matmul(self.dropout(attention), V) # x: [batch_size, n_heads, query_len, head_dim]\n",
        "\n",
        "        x = x.permute(0, 2, 1, 3).contiguous() #permute는 non-contiguous한 tensor을 return하기 때문.\n",
        "        # x: [batch_size, query_len, n_heads, head_dim]\n",
        "\n",
        "        x = x.view(batch_size, -1, self.hidden_dim) #view로 concat을 한 것과 동일한 효과(n_heads와 head_dim이 다시 하나로 합쳐지니까.)\n",
        "        #view는 contiguous한 tensor만 입력으로 받음. 그래서 위에서 contiguous\n",
        "        # x: [batch_size, query_len, hidden_dim]\n",
        "\n",
        "        x = self.fc_o(x)\n",
        "\n",
        "        return x, attention #attention 결과값은 나중에 시각화 할 수 있도록.\n",
        "\n"
      ],
      "metadata": {
        "id": "A5VMr_DnYmcg"
      },
      "execution_count": 9,
      "outputs": []
    },
    {
      "cell_type": "markdown",
      "source": [
        "#PositionWise Feed Forward"
      ],
      "metadata": {
        "id": "g2grIk_-6rid"
      }
    },
    {
      "cell_type": "code",
      "source": [
        "class PositionWiseFeedForward(nn.Module):\n",
        "    def __init__(self, hidden_dim, pf_dim, dropout_ratio):\n",
        "        '''\n",
        "        hidden_dim : 하나의 단어에 대한 임베딩 차원. 논문에 따르면 512\n",
        "        pf_dim : feedforward layer에서의 내부 임베딩 차원. 논문에 따르면 2048\n",
        "        dropout_ratio : 드랍아웃 비율\n",
        "        '''\n",
        "        super().__init__()\n",
        "\n",
        "        self.fc_1 = nn.Linear(hidden_dim, pf_dim)\n",
        "        self.relu = nn.ReLU(inplace = True)\n",
        "        self.fc_2 = nn.Linear(pf_dim, hidden_dim)\n",
        "\n",
        "        self.dropout = nn.Dropout(dropout_ratio)\n",
        "\n",
        "    def forward(self, x):\n",
        "        x = self.fc_1(x)\n",
        "        x = self.relu(x)\n",
        "        x = self.dropout(x)\n",
        "        x = self.fc_2(x)\n",
        "\n",
        "        return x\n"
      ],
      "metadata": {
        "id": "ZpaZ9zZUjEaH"
      },
      "execution_count": 10,
      "outputs": []
    },
    {
      "cell_type": "markdown",
      "source": [
        "#Encoder"
      ],
      "metadata": {
        "id": "CZPFnjuK6u4h"
      }
    },
    {
      "cell_type": "code",
      "source": [
        "class EncoderLayer(nn.Module):\n",
        "    def __init__(self, hidden_dim, n_heads, pf_dim, dropout_ratio, device):\n",
        "        '''\n",
        "        hidden_dim : 하나의 단어에 대한 임베딩 차원\n",
        "        n_heads : head의 개수. 즉, attention의 개수.\n",
        "        pf_dim : feedforward 내부에서의 임베딩 차원\n",
        "        dropout_ratio : 드랍아웃 비율\n",
        "        '''\n",
        "        super().__init__()\n",
        "\n",
        "        self.self_attention_layer_norm = nn.LayerNorm(hidden_dim) #layernorm은 batch 내에서 normalization. BN은 각 batch간 동일한 feature을 norm.\n",
        "        self.ff_layer_norm = nn.LayerNorm(hidden_dim)\n",
        "        self.self_attention = MultiHeadAttentionLayer(hidden_dim, n_heads, dropout_ratio, device)\n",
        "        self.positionwise_feedforward = PositionWiseFeedForward(hidden_dim, pf_dim, dropout_ratio)\n",
        "        self.dropout = nn.Dropout(dropout_ratio)\n",
        "\n",
        "    def forward(self, src, src_mask):\n",
        "        # src: [batch_size, src_len, hidden_dim]\n",
        "        # src_mask: [batch_size, src_len]\n",
        "\n",
        "        _src, _ = self.self_attention(src, src, src, src_mask)\n",
        "\n",
        "        src = self.self_attention_layer_norm(src + self.dropout(_src)) # src: [batch_size, src_len, hidden_dim]\n",
        "\n",
        "        _src = self.positionwise_feedforward(src)\n",
        "\n",
        "        src = self.ff_layer_norm(src + self.dropout(_src)) # src: [batch_size, src_len, hidden_dim]\n",
        "\n",
        "        return src\n",
        "\n"
      ],
      "metadata": {
        "id": "epzii1Qvkt2S"
      },
      "execution_count": 11,
      "outputs": []
    },
    {
      "cell_type": "code",
      "source": [
        "class Encoder(nn.Module):\n",
        "    def __init__(self, input_dim, hidden_dim, n_layers, n_heads, pf_dim, dropout_ratio, device, max_length = 100):\n",
        "        '''\n",
        "        input_dim : 하나의 단어에 대한 OHE 차원\n",
        "        hidden_dim : 하나의 단어에 대한 임베딩 차원\n",
        "        n_layers : 인코딩 레이어의 개수\n",
        "        n_heads : 인코딩 레이어에서의 head의 개수. 즉, attention의 개수\n",
        "        pf_dim : feed forward에서의 차원\n",
        "        dropout_ratio : dropout 비율\n",
        "        max_length : 문장 내 최대 단어 개수\n",
        "        '''\n",
        "        super().__init__()\n",
        "\n",
        "        self.tok_embedding = nn.Embedding(input_dim, hidden_dim) #embedding차원으로 바꿔주기\n",
        "        self.pos_embedding = nn.Embedding(max_length, hidden_dim) #학습가능한 pos embedding(논문과는 다름. 논문은 sin cos 함수 사용)\n",
        "\n",
        "        self.layers = nn.ModuleList([EncoderLayer(hidden_dim, n_heads, pf_dim, dropout_ratio, device) for _ in range(n_layers)]) #layer 수만큼 encoder layer 생성\n",
        "\n",
        "        self.dropout = nn.Dropout(dropout_ratio)\n",
        "\n",
        "        self.scale = torch.sqrt(torch.FloatTensor([hidden_dim])).to(device)\n",
        "\n",
        "    def forward(self, src, src_mask):\n",
        "        # src: [batch_size, src_len]\n",
        "        # src_mask: [batch_size, src_len]\n",
        "\n",
        "        batch_size = src.shape[0] #문장의 개수\n",
        "        src_len = src.shape[1] #모든 문장들 중 max(len(문장))\n",
        "\n",
        "        pos = torch.arange(0, src_len).unsqueeze(0).repeat(batch_size, 1).to(self.device) #각 문장마다 적용하기 위해 repeat으로 batch_size만큼 복제.\n",
        "        # pos: [batch_size, src_len]\n",
        "\n",
        "        src = self.dropout((self.tok_embedding(src) * self.scale) + self.pos_embedding(pos)) #단어 임베딩 한 값 + 위치 임베딩 한 값\n",
        "        # src: [batch_size, src_len, hidden_dim]\n",
        "\n",
        "        for layer in self.layers:\n",
        "            src = layer(src, src_mask)\n",
        "\n",
        "        return src # 마지막 레이어의 출력을 반환"
      ],
      "metadata": {
        "id": "zCxYtfsZqYI6"
      },
      "execution_count": 12,
      "outputs": []
    },
    {
      "cell_type": "markdown",
      "source": [
        "#Decoder"
      ],
      "metadata": {
        "id": "g436xDEK6xYQ"
      }
    },
    {
      "cell_type": "code",
      "source": [
        "class DecoderLayer(nn.Module):\n",
        "    def __init__(self, hidden_dim, n_heads, pf_dim, dropout_ratio, device):\n",
        "        '''\n",
        "        hidden_dim : 하나의 단어에 대한 embedding dimension\n",
        "        n_heads : attention 갯수.\n",
        "        pf_dim : feedforward 내부 임베딩 차원\n",
        "        dropout_ratio : dropout 비율\n",
        "        '''\n",
        "        super().__init__()\n",
        "\n",
        "        self.self_attention_layer_norm = nn.LayerNorm(hidden_dim)\n",
        "        self.enc_attention_layer_norm = nn.LayerNorm(hidden_dim)\n",
        "        self.ff_layer_norm = nn.LayerNorm(hidden_dim)\n",
        "        self.self_attention = MultiHeadAttentionLayer(hidden_dim, n_heads, dropout_ratio, device)\n",
        "        self.encoder_attention = MultiHeadAttentionLayer(hidden_dim, n_heads, dropout_ratio, device)\n",
        "        self.positionwise_feedforward = PositionWiseFeedForward(hidden_dim, pf_dim, dropout_ratio)\n",
        "        self.dropout = nn.Dropout(dropout_ratio)\n",
        "\n",
        "    def forward(self, trg, enc_src, trg_mask, src_mask):\n",
        "        # trg: [batch_size, trg_len, hidden_dim]\n",
        "        # enc_src: [batch_size, src_len, hidden_dim]\n",
        "        # trg_mask: [batch_size, trg_len]\n",
        "        # src_mask: [batch_size, src_len]\n",
        "\n",
        "        #self attention\n",
        "        _trg, _ = self.self_attention(trg, trg, trg, trg_mask)\n",
        "        trg = self.self_attention_layer_norm(trg + self.dropout(_trg))\n",
        "        # trg: [batch_size, trg_len, hidden_dim]\n",
        "\n",
        "        #encoder attention\n",
        "        #decoder의 query를 이용해 encoder을 attention\n",
        "        _trg, attention = self.encoder_attention(trg, enc_src, enc_src, src_mask)\n",
        "        trg = self.enc_attention_layer_norm(trg + self.dropout(_trg))\n",
        "\n",
        "        #positionwise feedforward\n",
        "        _trg = self.positionwise_feedforward(trg)\n",
        "        trg = self.ff_layer_norm(trg + self.dropout(_trg))\n",
        "\n",
        "        return trg, attention\n",
        "\n"
      ],
      "metadata": {
        "id": "2it7cK2BvwrJ"
      },
      "execution_count": 13,
      "outputs": []
    },
    {
      "cell_type": "code",
      "source": [
        "class Decoder(nn.Module):\n",
        "    def __init__(self, output_dim, hidden_dim, n_layers, n_heads, pf_dim, dropout_ratio, device, max_length=100):\n",
        "        '''\n",
        "        output_dim : 하나의 단어에 대한 OHE 차원\n",
        "        hidden_dim : 하나의 단어에 대한 embedding 차원\n",
        "        n_layers : decoder layer의 개수\n",
        "        n_heads : decoder layer내의 attention 개수. multihead.\n",
        "        pf_dim : feedforward layer에서의 임베딩 차원\n",
        "        dropout_ratio : dropout 비율\n",
        "        max_length : 문장 내 최대 단어 개수\n",
        "        '''\n",
        "        super().__init__()\n",
        "\n",
        "        self.device = device\n",
        "\n",
        "        self.tok_embedding = nn.Embedding(output_dim, hidden_dim)\n",
        "        self.pos_embedding = nn.Embedding(max_length, hidden_dim)\n",
        "\n",
        "        self.layers = nn.ModuleList([DecoderLayer(hidden_dim, n_heads, pf_dim, dropout_ratio, device) for _ in range(n_layers)])\n",
        "\n",
        "        self.fc_out = nn.Linear(hidden_dim, output_dim)\n",
        "\n",
        "        self.dropout = nn.Dropout(dropout_ratio)\n",
        "\n",
        "        self.scale = torch.sqrt(torch.FloatTensor([hidden_dim])).to(device)\n",
        "\n",
        "\n",
        "    def forward(self, trg, enc_src, trg_mask, src_mask):\n",
        "        # trg: [batch_size, trg_len]\n",
        "        # enc_src: [batch_size, src_len, hidden_dim]\n",
        "        # trg_mask: [batch_size, trg_len]\n",
        "        # src_mask: [batch_size, src_len]\n",
        "\n",
        "        batch_size = trg.shape[0]\n",
        "        trg_len = trg.shape[1]\n",
        "\n",
        "        pos = torch.arange(0, trg_len).unsqueeze(0).repeat(batch_size, 1).to(self.device)\n",
        "\n",
        "        trg = self.dropout((self.tok_embedding(trg) * self.scale) + self.pos_embedding(pos))\n",
        "\n",
        "        for layer in self.layers:\n",
        "            # 소스 마스크와 타겟 마스크 모두 사용\n",
        "            trg, attention = layer(trg, enc_src, trg_mask, src_mask)\n",
        "\n",
        "        # trg: [batch_size, trg_len, hidden_dim]\n",
        "        # attention: [batch_size, n_heads, trg_len, src_len]\n",
        "\n",
        "        output = self.fc_out(trg)\n",
        "\n",
        "        return output, attention\n",
        "\n"
      ],
      "metadata": {
        "id": "vn2Z48aH0TdI"
      },
      "execution_count": 14,
      "outputs": []
    },
    {
      "cell_type": "markdown",
      "source": [
        "#Transformer"
      ],
      "metadata": {
        "id": "QGocB0Ux6zR4"
      }
    },
    {
      "cell_type": "code",
      "source": [
        "class Transformer(nn.Module):\n",
        "    def __init__(self, encoder, decoder, src_pad_idx, trg_pad_idx, device):\n",
        "        super().__init__()\n",
        "\n",
        "        self.encoder = encoder\n",
        "        self.decoder = decoder\n",
        "        self.src_pad_idx = src_pad_idx\n",
        "        self.trg_pad_idx = trg_pad_idx\n",
        "        self.device = device\n",
        "\n",
        "    #소스 문장의 <pad> 토큰 값을 0으로 마스킹.\n",
        "    def make_src_mask(self, src):\n",
        "        # src: [batch_size, src_len]\n",
        "\n",
        "        src_mask = (src != self.src_pad_idx).unsqueeze(1).unsqueeze(2)\n",
        "        # src_mask: [batch_size, 1, 1, src_len]\n",
        "\n",
        "        return src_mask\n",
        "\n",
        "    # 타겟 문장에서 각 단어는 다음 단어가 무엇인지 알 수 없도록(이전 단어만 보도록) 만들기 위해 마스크를 사용\n",
        "    #그리고 <pad> 토큰 값 0으로 마스킹\n",
        "    def make_trg_mask(self, trg):\n",
        "        # trg: [batch_size, trg_len]\n",
        "\n",
        "        trg_pad_mask = (trg != self.trg_pad_idx).unsqueeze(1).unsqueeze(2)\n",
        "        # trg_pad_mask: [batch_size, 1, 1, trg_len]\n",
        "\n",
        "        trg_len = trg.shape[1]\n",
        "\n",
        "        trg_sub_mask = torch.tril(torch.ones((trg_len, trg_len), device = self.device)).bool() #torch.tril은 하삼각행렬 만들 때 사용\n",
        "\n",
        "        # trg_sub_mask: [trg_len, trg_len]\n",
        "\n",
        "        trg_mask = trg_pad_mask & trg_sub_mask #둘 다 1인 경우에만 attention score을 구할 수 있도록.\n",
        "\n",
        "        # trg_mask: [batch_size, 1, trg_len, trg_len]\n",
        "\n",
        "        return trg_mask\n"
      ],
      "metadata": {
        "id": "1ejTGB1y336q"
      },
      "execution_count": 15,
      "outputs": []
    }
  ]
}